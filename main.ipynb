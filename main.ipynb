{
 "cells": [
  {
   "attachments": {},
   "cell_type": "markdown",
   "metadata": {},
   "source": [
    "run `run.sh` to start the server"
   ]
  },
  {
   "cell_type": "code",
   "execution_count": 5,
   "metadata": {},
   "outputs": [
    {
     "name": "stdout",
     "output_type": "stream",
     "text": [
      "['Below is an instruction that describes a task. Write a response that appropriately completes the request.\\n\\n### Instruction:\\nExplain why the sky is blue\\n\\n### Response:The sky is blue because of the way light interacts with the atmosphere. When light hits the atmosphere, it is scattered in all directions by the molecules and particles in the air. The blue wavelengths of light are scattered more than the other colors, so the sky appears blue.', 'Below is an instruction that describes a task, paired with an input that provides further context. Write a response that appropriately completes the request.\\n\\n### Instruction:\\nCalculate the area of a circle with the following radius. Show your work. Explain your reasoning. Include your thought process.\\n\\n### Input:\\nradius = 5\\n\\n### Response:The area of a circle with radius 5 is 31.6667 square units. The area of a circle is calculated by multiplying the radius by itself, which in this case is 5 times 5, which is 25. Then, the area is calculated by multiplying 25 by π, which is 31.6667.']\n"
     ]
    }
   ],
   "source": [
    "import requests\n",
    "url = \"http://127.0.0.1:5000/\"\n",
    "\n",
    "PROMPT_DICT = {\n",
    "    \"prompt_input\": (\n",
    "        \"Below is an instruction that describes a task, paired with an input that provides further context. \"\n",
    "        \"Write a response that appropriately completes the request.\\n\\n\"\n",
    "        \"### Instruction:\\n{instruction}\\n\\n### Input:\\n{input}\\n\\n### Response:\"\n",
    "    ),\n",
    "    \"prompt_no_input\": (\n",
    "        \"Below is an instruction that describes a task. \"\n",
    "        \"Write a response that appropriately completes the request.\\n\\n\"\n",
    "        \"### Instruction:\\n{instruction}\\n\\n### Response:\"\n",
    "    ),\n",
    "}\n",
    "def fmt(prompt: str, input: str = \"\") -> str:\n",
    "    if input.strip() == \"\":\n",
    "        return PROMPT_DICT['prompt_no_input'].format_map({'instruction': prompt})\n",
    "    else:\n",
    "        return PROMPT_DICT['prompt_input'].format_map({'instruction': prompt, 'input': input})\n",
    "    \n",
    "prompts=[\n",
    "    fmt(\"Explain why the sky is blue\"),\n",
    "    fmt(\"Calculate the area of a circle with the following radius. Show your work. Explain your reasoning. Include your thought process.\", \"radius = 5\"),\n",
    "]\n",
    "data = {\"prompts\": prompts}\n",
    "response = requests.post(url, json=data).json()\n",
    "print(response)"
   ]
  },
  {
   "cell_type": "code",
   "execution_count": 18,
   "metadata": {},
   "outputs": [
    {
     "data": {
      "text/plain": [
       "['Below is an instruction that describes a task. Write a response that appropriately completes the request.\\n\\n### Instruction:\\nExplain why the sky is blue\\n\\n### Response:The sky is blue because of the way light interacts with the atmosphere. When light hits the atmosphere, it is scattered in all directions by the molecules and particles in the air. The blue wavelengths of light are scattered more than the other colors, so the sky appears blue.',\n",
       " 'Below is an instruction that describes a task, paired with an input that provides further context. Write a response that appropriately completes the request.\\n\\n### Instruction:\\nCalculate the area of a circle with the following radius. Show your work. Explain your reasoning. Include your thought process.\\n\\n### Input:\\nradius = 5\\n\\n### Response:The area of a circle with radius 5 is 31.6667 square units. The area of a circle is calculated by multiplying the radius by itself, which in this case is 5 times 5, which is 25. Then, the area is calculated by multiplying 25 by π, which is 31.6667.']"
      ]
     },
     "execution_count": 18,
     "metadata": {},
     "output_type": "execute_result"
    }
   ],
   "source": [
    "response"
   ]
  },
  {
   "cell_type": "code",
   "execution_count": 20,
   "metadata": {},
   "outputs": [
    {
     "name": "stdout",
     "output_type": "stream",
     "text": [
      "Below is an instruction that describes a task. Write a response that appropriately completes the request.\n",
      "\n",
      "### Instruction:\n",
      "Explain why the sky is blue\n",
      "\n",
      "### Response:\n",
      "The sky is blue because of the way light interacts with the atmosphere. When light hits the atmosphere, it is scattered in all directions by the molecules and particles in the air. The blue wavelengths of light are scattered more than the other colors, so the sky appears blue.\n",
      "==================================\n",
      "Below is an instruction that describes a task, paired with an input that provides further context. Write a response that appropriately completes the request.\n",
      "\n",
      "### Instruction:\n",
      "Calculate the area of a circle with the following radius. Show your work. Explain your reasoning. Include your thought process.\n",
      "\n",
      "### Input:\n",
      "radius = 5\n",
      "\n",
      "### Response:\n",
      "The area of a circle with radius 5 is 31.6667 square units. The area of a circle is calculated by multiplying the radius by itself, which in this case is 5 times 5, which is 25. Then, the area is calculated by multiplying 25 by π, which is 31.6667.\n"
     ]
    }
   ],
   "source": [
    "import textwrap\n",
    "\n",
    "print(\"\\n==================================\\n\".join([x.replace(\"Response:\", \"Response:\\n\") for x in response]))"
   ]
  }
 ],
 "metadata": {
  "kernelspec": {
   "display_name": "llama_adapter",
   "language": "python",
   "name": "python3"
  },
  "language_info": {
   "codemirror_mode": {
    "name": "ipython",
    "version": 3
   },
   "file_extension": ".py",
   "mimetype": "text/x-python",
   "name": "python",
   "nbconvert_exporter": "python",
   "pygments_lexer": "ipython3",
   "version": "3.10.10"
  },
  "orig_nbformat": 4
 },
 "nbformat": 4,
 "nbformat_minor": 2
}
